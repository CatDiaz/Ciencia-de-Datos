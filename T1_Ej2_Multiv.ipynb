{
 "cells": [
  {
   "cell_type": "code",
   "execution_count": 23,
   "id": "2853a04e",
   "metadata": {},
   "outputs": [],
   "source": [
    "import pandas as pd\n",
    "import seaborn as sns\n",
    "import statistics\n",
    "import numpy as np\n",
    "import math\n",
    "import scipy as sp\n"
   ]
  },
  {
   "cell_type": "code",
   "execution_count": 2,
   "id": "302dd2d4",
   "metadata": {},
   "outputs": [],
   "source": [
    "ejercicio2= pd.read_excel(r\"C:\\Users\\100019201\\OneDrive\\Documentos\\2do SEMESTRE\\Estadística Multivariada\\TAREA 1\\ejercicio2.xlsx\")"
   ]
  },
  {
   "cell_type": "code",
   "execution_count": 3,
   "id": "c6abd36d",
   "metadata": {},
   "outputs": [
    {
     "data": {
      "image/png": "[encoded data removed]",
      "text/plain": [
       "<Figure size 432x288 with 2 Axes>"
      ]
     },
     "metadata": {
      "needs_background": "light"
     },
     "output_type": "display_data"
    }
   ],
   "source": [
    "corr = ejercicio2.corr()\n",
    "ax = sns.heatmap(\n",
    "    corr, \n",
    "    vmin=-1, vmax=1, center=0,\n",
    "    cmap=sns.diverging_palette(20, 220, n=200),\n",
    "    square=True\n",
    ")\n",
    "ax.set_xticklabels(\n",
    "    ax.get_xticklabels(),\n",
    "    rotation=45,\n",
    "    horizontalalignment='right'\n",
    ");"
   ]
  },
  {
   "cell_type": "code",
   "execution_count": 4,
   "id": "74051017",
   "metadata": {},
   "outputs": [
    {
     "data": {
      "text/plain": [
       "<AxesSubplot:xlabel='X1', ylabel='X2'>"
      ]
     },
     "execution_count": 4,
     "metadata": {},
     "output_type": "execute_result"
    },
    {
     "data": {
      "image/png": "[encoded data removed]",
      "text/plain": [
       "<Figure size 432x288 with 1 Axes>"
      ]
     },
     "metadata": {
      "needs_background": "light"
     },
     "output_type": "display_data"
    }
   ],
   "source": [
    "sns.scatterplot(x=('X1'), y=('X2'), data=ejercicio2)"
   ]
  },
  {
   "cell_type": "code",
   "execution_count": 5,
   "id": "dc9abfb4",
   "metadata": {},
   "outputs": [
    {
     "data": {
      "text/plain": [
       "<AxesSubplot:xlabel='X1', ylabel='X3'>"
      ]
     },
     "execution_count": 5,
     "metadata": {},
     "output_type": "execute_result"
    },
    {
     "data": {
      "image/png": "[encoded data removed]",
      "text/plain": [
       "<Figure size 432x288 with 1 Axes>"
      ]
     },
     "metadata": {
      "needs_background": "light"
     },
     "output_type": "display_data"
    }
   ],
   "source": [
    "sns.scatterplot(x=('X1'), y=('X3'), data=ejercicio2)"
   ]
  },
  {
   "cell_type": "code",
   "execution_count": 6,
   "id": "9aadfdde",
   "metadata": {},
   "outputs": [
    {
     "data": {
      "text/plain": [
       "19.05"
      ]
     },
     "execution_count": 6,
     "metadata": {},
     "output_type": "execute_result"
    }
   ],
   "source": [
    "#Medias de X1 y X2\n",
    "\n",
    "media_X1= statistics.mean(ejercicio2.loc[:,\"X1\"])\n",
    "media_X1\n",
    "\n"
   ]
  },
  {
   "cell_type": "code",
   "execution_count": 7,
   "id": "1d3db3ca",
   "metadata": {},
   "outputs": [
    {
     "data": {
      "text/plain": [
       "1.57"
      ]
     },
     "execution_count": 7,
     "metadata": {},
     "output_type": "execute_result"
    }
   ],
   "source": [
    "media_X2= statistics.mean(ejercicio2.loc[:,\"X2\"])\n",
    "media_X2"
   ]
  },
  {
   "cell_type": "code",
   "execution_count": 8,
   "id": "642ef6b3",
   "metadata": {},
   "outputs": [
    {
     "name": "stdout",
     "output_type": "stream",
     "text": [
      "56.96849999999999\n",
      "0.8941\n"
     ]
    }
   ],
   "source": [
    "#Varianza S11 y S22\n",
    "varianza_S11= statistics.pvariance(ejercicio2.loc[:,\"X1\"])\n",
    "print(varianza_S11)\n",
    "\n",
    "varianza_S22= statistics.pvariance(ejercicio2.loc[:,\"X2\"])\n",
    "print(varianza_S22)\n"
   ]
  },
  {
   "cell_type": "code",
   "execution_count": 9,
   "id": "d5f3db92",
   "metadata": {},
   "outputs": [
    {
     "name": "stdout",
     "output_type": "stream",
     "text": [
      "5.744999999999999\n",
      "[[63.29833333  5.745     ]\n",
      " [ 5.745       0.99344444]]\n"
     ]
    }
   ],
   "source": [
    "#Covarianza \n",
    "covarianza_X1X2= np.cov(ejercicio2.loc[:,\"X1\"], ejercicio2.loc[:,\"X2\"])\n",
    "print(covarianza_X1X2[0][1])\n",
    "\n",
    "print(covarianza_X1X2)\n",
    "\n"
   ]
  },
  {
   "cell_type": "code",
   "execution_count": 10,
   "id": "7108ead9",
   "metadata": {
    "scrolled": true
   },
   "outputs": [
    {
     "name": "stdout",
     "output_type": "stream",
     "text": [
      "0.7244728301188244\n"
     ]
    }
   ],
   "source": [
    "#Coeficiente de correlación\n",
    "\n",
    "correlacion_X1X2= np.corrcoef(ejercicio2.loc[:,'X1'], ejercicio2.loc[:,'X2'])\n",
    "print(correlacion_X1X2[0][1])\n"
   ]
  },
  {
   "cell_type": "code",
   "execution_count": 11,
   "id": "c4b16d4d",
   "metadata": {},
   "outputs": [
    {
     "data": {
      "text/plain": [
       "array([[1.        , 0.72447283, 0.93217635],\n",
       "       [0.72447283, 1.        , 0.8906068 ],\n",
       "       [0.93217635, 0.8906068 , 1.        ]])"
      ]
     },
     "execution_count": 11,
     "metadata": {},
     "output_type": "execute_result"
    }
   ],
   "source": [
    "\n",
    "n=10\n",
    "Identidad=np.identity(10)\n",
    "Identidad\n",
    "unos=np.full((10,10),1)\n",
    "unos\n",
    "\n",
    "P=Identidad-(unos/n)\n",
    "\n",
    "X=ejercicio2.loc[:,(\"X1\",\"X2\",\"X3\")]\n",
    "X\n",
    "\n",
    "vect_unos=np.full((10,1),1)\n",
    "\n",
    "medias=X.transpose().dot(vect_unos)/n\n",
    "medias\n",
    "\n",
    "S= X.transpose().dot(P).dot(X)/n\n",
    "S\n",
    "\n",
    "Diagonal=np.diag(np.diagonal(S))\n",
    "Diagonal\n",
    "\n",
    "\n",
    "D1= np.diag(1/np.sqrt(np.diagonal(S)))\n",
    "D1\n",
    "\n",
    "R=D1.dot(S).dot(D1)\n",
    "R"
   ]
  },
  {
   "cell_type": "code",
   "execution_count": 33,
   "id": "3d9c7cc6",
   "metadata": {},
   "outputs": [
    {
     "data": {
      "text/plain": [
       "0.5242097381323837"
      ]
     },
     "execution_count": 33,
     "metadata": {},
     "output_type": "execute_result"
    }
   ],
   "source": [
    "sigma=np.matrix([[2,.5],[.5,1]])\n",
    "sigma\n",
    "\n",
    "#Valores y vectores propios\n",
    "valores_vectores_propios=np.linalg.eig(sigma)\n",
    "valores_propios=valores_vectores_propios[0]\n",
    "vectores_propios=valores_vectores_propios[1]\n",
    "\n",
    "\n",
    "c=np.sqrt(sp.stats.chi2.ppf(.5,2))\n",
    "a=c*np.sqrt(valores_propios[0])/2\n",
    "b=c*np.sqrt(valores_propios[1])/2\n",
    "\n",
    "\n"
   ]
  }
 ],
 "metadata": {
  "kernelspec": {
   "display_name": "Python 3 (ipykernel)",
   "language": "python",
   "name": "python3"
  },
  "language_info": {
   "codemirror_mode": {
    "name": "ipython",
    "version": 3
   },
   "file_extension": ".py",
   "mimetype": "text/x-python",
   "name": "python",
   "nbconvert_exporter": "python",
   "pygments_lexer": "ipython3",
   "version": "3.9.7"
  }
 },
 "nbformat": 4,
 "nbformat_minor": 5
}
