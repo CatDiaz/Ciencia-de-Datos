{
 "cells": [
  {
   "cell_type": "code",
   "execution_count": 1,
   "id": "8e6529f1",
   "metadata": {},
   "outputs": [],
   "source": [
    "import pandas as pd\n",
    "import numpy as np \n",
    "import seaborn as sns"
   ]
  },
  {
   "cell_type": "code",
   "execution_count": 2,
   "id": "6dd6d848",
   "metadata": {},
   "outputs": [],
   "source": [
    "suicide= pd.read_csv(r\"C:\\Users\\100019201\\OneDrive\\Documentos\\2do SEMESTRE\\Ciencia de datos\\Tarea 1\\suicide_data.csv\")"
   ]
  },
  {
   "cell_type": "code",
   "execution_count": 3,
   "id": "f57935bd",
   "metadata": {},
   "outputs": [
    {
     "data": {
      "text/plain": [
       "pandas.core.frame.DataFrame"
      ]
     },
     "execution_count": 3,
     "metadata": {},
     "output_type": "execute_result"
    }
   ],
   "source": [
    "type(suicide)"
   ]
  },
  {
   "cell_type": "code",
   "execution_count": 4,
   "id": "6827f9c9",
   "metadata": {},
   "outputs": [
    {
     "data": {
      "text/plain": [
       "country                   0\n",
       "year                      0\n",
       "sex                       0\n",
       "age                       0\n",
       "suicides_no               0\n",
       "population                0\n",
       "suicides/100k pop         0\n",
       "country-year              0\n",
       "HDI for year          19456\n",
       " gdp_for_year ($)         0\n",
       "gdp_per_capita ($)        0\n",
       "generation                0\n",
       "dtype: int64"
      ]
     },
     "execution_count": 4,
     "metadata": {},
     "output_type": "execute_result"
    }
   ],
   "source": [
    "suicide.isnull()\n",
    "#Se va a contar los valores nulos por cada variable \n",
    "suicide.isna().sum()\n",
    "\n",
    "#Se observa que hay missings en HDI"
   ]
  },
  {
   "cell_type": "code",
   "execution_count": 5,
   "id": "60b4833f",
   "metadata": {},
   "outputs": [
    {
     "data": {
      "text/html": [
       "<div>\n",
       "<style scoped>\n",
       "    .dataframe tbody tr th:only-of-type {\n",
       "        vertical-align: middle;\n",
       "    }\n",
       "\n",
       "    .dataframe tbody tr th {\n",
       "        vertical-align: top;\n",
       "    }\n",
       "\n",
       "    .dataframe thead th {\n",
       "        text-align: right;\n",
       "    }\n",
       "</style>\n",
       "<table border=\"1\" class=\"dataframe\">\n",
       "  <thead>\n",
       "    <tr style=\"text-align: right;\">\n",
       "      <th></th>\n",
       "      <th>country</th>\n",
       "      <th>year</th>\n",
       "      <th>sex</th>\n",
       "      <th>age</th>\n",
       "      <th>suicides_no</th>\n",
       "      <th>population</th>\n",
       "      <th>suicides/100k pop</th>\n",
       "      <th>country-year</th>\n",
       "      <th>HDI for year</th>\n",
       "      <th>gdp_for_year ($)</th>\n",
       "      <th>gdp_per_capita ($)</th>\n",
       "      <th>generation</th>\n",
       "    </tr>\n",
       "  </thead>\n",
       "  <tbody>\n",
       "    <tr>\n",
       "      <th>0</th>\n",
       "      <td>Albania</td>\n",
       "      <td>1987</td>\n",
       "      <td>male</td>\n",
       "      <td>15-24 years</td>\n",
       "      <td>21</td>\n",
       "      <td>312900</td>\n",
       "      <td>6.71</td>\n",
       "      <td>Albania1987</td>\n",
       "      <td>NaN</td>\n",
       "      <td>2.156625e+09</td>\n",
       "      <td>796</td>\n",
       "      <td>Generation X</td>\n",
       "    </tr>\n",
       "    <tr>\n",
       "      <th>1</th>\n",
       "      <td>Albania</td>\n",
       "      <td>1987</td>\n",
       "      <td>male</td>\n",
       "      <td>35-54 years</td>\n",
       "      <td>16</td>\n",
       "      <td>308000</td>\n",
       "      <td>5.19</td>\n",
       "      <td>Albania1987</td>\n",
       "      <td>NaN</td>\n",
       "      <td>2.156625e+09</td>\n",
       "      <td>796</td>\n",
       "      <td>Silent</td>\n",
       "    </tr>\n",
       "    <tr>\n",
       "      <th>2</th>\n",
       "      <td>Albania</td>\n",
       "      <td>1987</td>\n",
       "      <td>female</td>\n",
       "      <td>15-24 years</td>\n",
       "      <td>14</td>\n",
       "      <td>289700</td>\n",
       "      <td>4.83</td>\n",
       "      <td>Albania1987</td>\n",
       "      <td>NaN</td>\n",
       "      <td>2.156625e+09</td>\n",
       "      <td>796</td>\n",
       "      <td>Generation X</td>\n",
       "    </tr>\n",
       "    <tr>\n",
       "      <th>3</th>\n",
       "      <td>Albania</td>\n",
       "      <td>1987</td>\n",
       "      <td>male</td>\n",
       "      <td>75+ years</td>\n",
       "      <td>1</td>\n",
       "      <td>21800</td>\n",
       "      <td>4.59</td>\n",
       "      <td>Albania1987</td>\n",
       "      <td>NaN</td>\n",
       "      <td>2.156625e+09</td>\n",
       "      <td>796</td>\n",
       "      <td>G.I. Generation</td>\n",
       "    </tr>\n",
       "    <tr>\n",
       "      <th>4</th>\n",
       "      <td>Albania</td>\n",
       "      <td>1987</td>\n",
       "      <td>male</td>\n",
       "      <td>25-34 years</td>\n",
       "      <td>9</td>\n",
       "      <td>274300</td>\n",
       "      <td>3.28</td>\n",
       "      <td>Albania1987</td>\n",
       "      <td>NaN</td>\n",
       "      <td>2.156625e+09</td>\n",
       "      <td>796</td>\n",
       "      <td>Boomers</td>\n",
       "    </tr>\n",
       "    <tr>\n",
       "      <th>...</th>\n",
       "      <td>...</td>\n",
       "      <td>...</td>\n",
       "      <td>...</td>\n",
       "      <td>...</td>\n",
       "      <td>...</td>\n",
       "      <td>...</td>\n",
       "      <td>...</td>\n",
       "      <td>...</td>\n",
       "      <td>...</td>\n",
       "      <td>...</td>\n",
       "      <td>...</td>\n",
       "      <td>...</td>\n",
       "    </tr>\n",
       "    <tr>\n",
       "      <th>27815</th>\n",
       "      <td>Uzbekistan</td>\n",
       "      <td>2014</td>\n",
       "      <td>female</td>\n",
       "      <td>35-54 years</td>\n",
       "      <td>107</td>\n",
       "      <td>3620833</td>\n",
       "      <td>2.96</td>\n",
       "      <td>Uzbekistan2014</td>\n",
       "      <td>0.675</td>\n",
       "      <td>6.306708e+10</td>\n",
       "      <td>2309</td>\n",
       "      <td>Generation X</td>\n",
       "    </tr>\n",
       "    <tr>\n",
       "      <th>27816</th>\n",
       "      <td>Uzbekistan</td>\n",
       "      <td>2014</td>\n",
       "      <td>female</td>\n",
       "      <td>75+ years</td>\n",
       "      <td>9</td>\n",
       "      <td>348465</td>\n",
       "      <td>2.58</td>\n",
       "      <td>Uzbekistan2014</td>\n",
       "      <td>0.675</td>\n",
       "      <td>6.306708e+10</td>\n",
       "      <td>2309</td>\n",
       "      <td>Silent</td>\n",
       "    </tr>\n",
       "    <tr>\n",
       "      <th>27817</th>\n",
       "      <td>Uzbekistan</td>\n",
       "      <td>2014</td>\n",
       "      <td>male</td>\n",
       "      <td>5-14 years</td>\n",
       "      <td>60</td>\n",
       "      <td>2762158</td>\n",
       "      <td>2.17</td>\n",
       "      <td>Uzbekistan2014</td>\n",
       "      <td>0.675</td>\n",
       "      <td>6.306708e+10</td>\n",
       "      <td>2309</td>\n",
       "      <td>Generation Z</td>\n",
       "    </tr>\n",
       "    <tr>\n",
       "      <th>27818</th>\n",
       "      <td>Uzbekistan</td>\n",
       "      <td>2014</td>\n",
       "      <td>female</td>\n",
       "      <td>5-14 years</td>\n",
       "      <td>44</td>\n",
       "      <td>2631600</td>\n",
       "      <td>1.67</td>\n",
       "      <td>Uzbekistan2014</td>\n",
       "      <td>0.675</td>\n",
       "      <td>6.306708e+10</td>\n",
       "      <td>2309</td>\n",
       "      <td>Generation Z</td>\n",
       "    </tr>\n",
       "    <tr>\n",
       "      <th>27819</th>\n",
       "      <td>Uzbekistan</td>\n",
       "      <td>2014</td>\n",
       "      <td>female</td>\n",
       "      <td>55-74 years</td>\n",
       "      <td>21</td>\n",
       "      <td>1438935</td>\n",
       "      <td>1.46</td>\n",
       "      <td>Uzbekistan2014</td>\n",
       "      <td>0.675</td>\n",
       "      <td>6.306708e+10</td>\n",
       "      <td>2309</td>\n",
       "      <td>Boomers</td>\n",
       "    </tr>\n",
       "  </tbody>\n",
       "</table>\n",
       "<p>27820 rows × 12 columns</p>\n",
       "</div>"
      ],
      "text/plain": [
       "          country  year     sex          age  suicides_no  population  \\\n",
       "0         Albania  1987    male  15-24 years           21      312900   \n",
       "1         Albania  1987    male  35-54 years           16      308000   \n",
       "2         Albania  1987  female  15-24 years           14      289700   \n",
       "3         Albania  1987    male    75+ years            1       21800   \n",
       "4         Albania  1987    male  25-34 years            9      274300   \n",
       "...           ...   ...     ...          ...          ...         ...   \n",
       "27815  Uzbekistan  2014  female  35-54 years          107     3620833   \n",
       "27816  Uzbekistan  2014  female    75+ years            9      348465   \n",
       "27817  Uzbekistan  2014    male   5-14 years           60     2762158   \n",
       "27818  Uzbekistan  2014  female   5-14 years           44     2631600   \n",
       "27819  Uzbekistan  2014  female  55-74 years           21     1438935   \n",
       "\n",
       "       suicides/100k pop    country-year  HDI for year   gdp_for_year ($)   \\\n",
       "0                   6.71     Albania1987           NaN        2.156625e+09   \n",
       "1                   5.19     Albania1987           NaN        2.156625e+09   \n",
       "2                   4.83     Albania1987           NaN        2.156625e+09   \n",
       "3                   4.59     Albania1987           NaN        2.156625e+09   \n",
       "4                   3.28     Albania1987           NaN        2.156625e+09   \n",
       "...                  ...             ...           ...                 ...   \n",
       "27815               2.96  Uzbekistan2014         0.675        6.306708e+10   \n",
       "27816               2.58  Uzbekistan2014         0.675        6.306708e+10   \n",
       "27817               2.17  Uzbekistan2014         0.675        6.306708e+10   \n",
       "27818               1.67  Uzbekistan2014         0.675        6.306708e+10   \n",
       "27819               1.46  Uzbekistan2014         0.675        6.306708e+10   \n",
       "\n",
       "       gdp_per_capita ($)       generation  \n",
       "0                     796     Generation X  \n",
       "1                     796           Silent  \n",
       "2                     796     Generation X  \n",
       "3                     796  G.I. Generation  \n",
       "4                     796          Boomers  \n",
       "...                   ...              ...  \n",
       "27815                2309     Generation X  \n",
       "27816                2309           Silent  \n",
       "27817                2309     Generation Z  \n",
       "27818                2309     Generation Z  \n",
       "27819                2309          Boomers  \n",
       "\n",
       "[27820 rows x 12 columns]"
      ]
     },
     "execution_count": 5,
     "metadata": {},
     "output_type": "execute_result"
    }
   ],
   "source": [
    "suicide.interpolate(method='linear')"
   ]
  },
  {
   "cell_type": "code",
   "execution_count": 6,
   "id": "e8a57a32",
   "metadata": {},
   "outputs": [
    {
     "data": {
      "image/png": "[encoded data removed]",
      "text/plain": [
       "<Figure size 432x288 with 2 Axes>"
      ]
     },
     "metadata": {
      "needs_background": "light"
     },
     "output_type": "display_data"
    }
   ],
   "source": [
    "corr = suicide.corr()\n",
    "ax = sns.heatmap(\n",
    "    corr, \n",
    "    vmin=-1, vmax=1, center=0,\n",
    "    cmap=sns.diverging_palette(20, 220, n=200),\n",
    "    square=True\n",
    ")\n",
    "ax.set_xticklabels(\n",
    "    ax.get_xticklabels(),\n",
    "    rotation=45,\n",
    "    horizontalalignment='right'\n",
    ");\n",
    "\n",
    "#Colores más azules que no sean en la diagonal es que su correlación es mayor, los valores son positivos."
   ]
  },
  {
   "cell_type": "code",
   "execution_count": 7,
   "id": "e7b52821",
   "metadata": {},
   "outputs": [
    {
     "name": "stdout",
     "output_type": "stream",
     "text": [
      "                     suicides_no  gdp_for_year ($) \n",
      "                             sum               mean\n",
      "country                                            \n",
      "Albania                     1970       5.211661e+09\n",
      "Antigua and Barbuda           11       8.035452e+08\n",
      "Argentina                  82219       2.742565e+11\n",
      "Armenia                     1905       5.386592e+09\n",
      "Aruba                        101       2.196223e+09\n",
      "...                          ...                ...\n",
      "United Arab Emirates         622       2.532432e+11\n",
      "United Kingdom            136805       1.816067e+12\n",
      "United States            1034013       1.051071e+13\n",
      "Uruguay                    13138       2.337827e+10\n",
      "Uzbekistan                 34803       2.286003e+10\n",
      "\n",
      "[101 rows x 2 columns]\n"
     ]
    }
   ],
   "source": [
    "suicidios_agregados= suicide.groupby('country').agg({'suicides_no':['sum'],' gdp_for_year ($) ': ['mean']})\n",
    "print (suicidios_agregados)"
   ]
  },
  {
   "cell_type": "code",
   "execution_count": 8,
   "id": "93917bae",
   "metadata": {},
   "outputs": [
    {
     "data": {
      "text/plain": [
       "MultiIndex([(       'suicides_no',  'sum'),\n",
       "            (' gdp_for_year ($) ', 'mean')],\n",
       "           )"
      ]
     },
     "execution_count": 8,
     "metadata": {},
     "output_type": "execute_result"
    }
   ],
   "source": [
    "suicidios_agregados.keys()"
   ]
  },
  {
   "cell_type": "code",
   "execution_count": 9,
   "id": "2fb0452e",
   "metadata": {},
   "outputs": [
    {
     "data": {
      "text/plain": [
       "<AxesSubplot:xlabel=\"('suicides_no', 'sum')\", ylabel=\"(' gdp_for_year ($) ', 'mean')\">"
      ]
     },
     "execution_count": 9,
     "metadata": {},
     "output_type": "execute_result"
    },
    {
     "data": {
      "image/png": "[encoded data removed]",
      "text/plain": [
       "<Figure size 432x288 with 1 Axes>"
      ]
     },
     "metadata": {
      "needs_background": "light"
     },
     "output_type": "display_data"
    }
   ],
   "source": [
    "sns.scatterplot(x=('suicides_no','sum'), y=(' gdp_for_year ($) ','mean'), data=suicidios_agregados)\n"
   ]
  },
  {
   "cell_type": "code",
   "execution_count": 10,
   "id": "042039ce",
   "metadata": {},
   "outputs": [
    {
     "data": {
      "text/plain": [
       "<AxesSubplot:xlabel=\"('suicides_no', 'sum')\", ylabel=\"(' gdp_for_year ($) ', 'mean')\">"
      ]
     },
     "execution_count": 10,
     "metadata": {},
     "output_type": "execute_result"
    },
    {
     "data": {
      "image/png": "[encoded data removed]",
      "text/plain": [
       "<Figure size 432x288 with 1 Axes>"
      ]
     },
     "metadata": {
      "needs_background": "light"
     },
     "output_type": "display_data"
    }
   ],
   "source": [
    "media_pib=suicidios_agregados.loc[:,(' gdp_for_year ($) ','mean')]\n",
    "suma_suic=suicidios_agregados.loc[:,('suicides_no','sum')]\n",
    "sns.regplot(x=suma_suic, y=media_pib)"
   ]
  },
  {
   "cell_type": "code",
   "execution_count": 11,
   "id": "185add74",
   "metadata": {},
   "outputs": [
    {
     "name": "stdout",
     "output_type": "stream",
     "text": [
      "                suicides_no population\n",
      "                        sum        sum\n",
      "country    year                       \n",
      "Albania    1987          73    2709600\n",
      "           1988          63    2764300\n",
      "           1989          68    2803100\n",
      "           1992          47    2822500\n",
      "           1993          73    2807300\n",
      "...                     ...        ...\n",
      "Uzbekistan 2010        1464   25651783\n",
      "           2011        1640   25978049\n",
      "           2012        1835   26381830\n",
      "           2013        1950   26838924\n",
      "           2014        2095   27313507\n",
      "\n",
      "[2321 rows x 2 columns]\n"
     ]
    }
   ],
   "source": [
    "suicidios_agregados2= suicide.groupby(['country','year']).agg({'suicides_no':['sum'],'population': ['sum']})\n",
    "print (suicidios_agregados2)"
   ]
  },
  {
   "cell_type": "code",
   "execution_count": 12,
   "id": "1ae059ae",
   "metadata": {},
   "outputs": [
    {
     "data": {
      "text/plain": [
       "<AxesSubplot:xlabel=\"('suicides_no', 'sum')\", ylabel=\"('population', 'sum')\">"
      ]
     },
     "execution_count": 12,
     "metadata": {},
     "output_type": "execute_result"
    },
    {
     "data": {
      "image/png": "[encoded data removed]",
      "text/plain": [
       "<Figure size 432x288 with 1 Axes>"
      ]
     },
     "metadata": {
      "needs_background": "light"
     },
     "output_type": "display_data"
    }
   ],
   "source": [
    "suma_pob=suicidios_agregados2.loc[:,('population','sum')]\n",
    "suma_suic=suicidios_agregados2.loc[:,('suicides_no','sum')]\n",
    "sns.regplot(x=suma_suic, y=suma_pob)"
   ]
  },
  {
   "cell_type": "code",
   "execution_count": 13,
   "id": "d387fe3b",
   "metadata": {},
   "outputs": [
    {
     "name": "stdout",
     "output_type": "stream",
     "text": [
      "                       suicides_no    population\n",
      "                               sum           sum\n",
      "                              mean          mean\n",
      "country                                         \n",
      "Albania                  89.545455  2.832976e+06\n",
      "Antigua and Barbuda       0.407407  7.371215e+04\n",
      "Argentina              2652.225806  3.341888e+07\n",
      "Armenia                  76.200000  3.093927e+06\n",
      "Aruba                     7.214286  8.997693e+04\n",
      "...                            ...           ...\n",
      "United Arab Emirates    103.666667  6.083712e+06\n",
      "United Kingdom         4413.064516  5.608928e+07\n",
      "United States         33355.258065  2.598073e+08\n",
      "Uruguay                 469.214286  3.002462e+06\n",
      "Uzbekistan             1581.954545  2.211012e+07\n",
      "\n",
      "[101 rows x 2 columns]\n"
     ]
    }
   ],
   "source": [
    "suicidios_agregados3= suicidios_agregados2.groupby(['country']).agg({('suicides_no','sum'):['mean'],('population','sum'): ['mean']})\n",
    "print (suicidios_agregados3)"
   ]
  },
  {
   "cell_type": "code",
   "execution_count": 14,
   "id": "77856beb",
   "metadata": {},
   "outputs": [
    {
     "data": {
      "text/plain": [
       "<AxesSubplot:xlabel=\"('suicides_no', 'sum', 'mean')\", ylabel=\"('population', 'sum', 'mean')\">"
      ]
     },
     "execution_count": 14,
     "metadata": {},
     "output_type": "execute_result"
    },
    {
     "data": {
      "image/png": "[encoded data removed]",
      "text/plain": [
       "<Figure size 432x288 with 1 Axes>"
      ]
     },
     "metadata": {
      "needs_background": "light"
     },
     "output_type": "display_data"
    }
   ],
   "source": [
    "suma_pob=suicidios_agregados3.loc[:,('population','sum','mean')]\n",
    "suma_suic=suicidios_agregados3.loc[:,('suicides_no','sum','mean')]\n",
    "sns.regplot(x=suma_suic, y=suma_pob)"
   ]
  },
  {
   "cell_type": "code",
   "execution_count": 15,
   "id": "2d006a59",
   "metadata": {},
   "outputs": [
    {
     "name": "stdout",
     "output_type": "stream",
     "text": [
      "                           suicides_no\n",
      "                                   sum\n",
      "country             sex               \n",
      "Albania             female         693\n",
      "                    male          1277\n",
      "Antigua and Barbuda female           1\n",
      "                    male            10\n",
      "Argentina           female       18326\n",
      "...                                ...\n",
      "United States       male        820216\n",
      "Uruguay             female        2820\n",
      "                    male         10318\n",
      "Uzbekistan          female        9260\n",
      "                    male         25543\n",
      "\n",
      "[202 rows x 1 columns]\n"
     ]
    }
   ],
   "source": [
    "suicidios_agregados4= suicide.groupby(['country','sex']).agg({'suicides_no':['sum']})\n",
    "print (suicidios_agregados4)"
   ]
  },
  {
   "cell_type": "code",
   "execution_count": 16,
   "id": "973104f2",
   "metadata": {},
   "outputs": [
    {
     "data": {
      "text/plain": [
       "<AxesSubplot:xlabel=\"('suicides_no', 'sum')\", ylabel='Density'>"
      ]
     },
     "execution_count": 16,
     "metadata": {},
     "output_type": "execute_result"
    },
    {
     "data": {
      "image/png": "[encoded data removed]",
      "text/plain": [
       "<Figure size 432x288 with 1 Axes>"
      ]
     },
     "metadata": {
      "needs_background": "light"
     },
     "output_type": "display_data"
    }
   ],
   "source": [
    "sns.kdeplot(data=suicidios_agregados4,x=('suicides_no','sum'),hue=\"sex\",multiple=\"stack\")"
   ]
  },
  {
   "cell_type": "code",
   "execution_count": null,
   "id": "c08f7906",
   "metadata": {},
   "outputs": [],
   "source": []
  },
  {
   "cell_type": "code",
   "execution_count": 17,
   "id": "d5a81875",
   "metadata": {},
   "outputs": [],
   "source": [
    "list1 = [\"female\",\"male\"]\n",
    "sex=[]\n",
    "for i in range(0,int(suicidios_agregados4.shape[0]/2)):\n",
    "   sex=sex+list1\n"
   ]
  },
  {
   "cell_type": "code",
   "execution_count": 18,
   "id": "20a76962",
   "metadata": {},
   "outputs": [
    {
     "data": {
      "text/plain": [
       "<AxesSubplot:ylabel=\"('suicides_no', 'sum')\">"
      ]
     },
     "execution_count": 18,
     "metadata": {},
     "output_type": "execute_result"
    },
    {
     "data": {
      "image/png": "[encoded data removed]",
      "text/plain": [
       "<Figure size 432x288 with 1 Axes>"
      ]
     },
     "metadata": {
      "needs_background": "light"
     },
     "output_type": "display_data"
    }
   ],
   "source": [
    "sns.boxplot(x=sex,y=suicidios_agregados4.loc[:,('suicides_no','sum')])"
   ]
  },
  {
   "cell_type": "code",
   "execution_count": 19,
   "id": "c3fe8c5a",
   "metadata": {},
   "outputs": [
    {
     "data": {
      "text/html": [
       "<div>\n",
       "<style scoped>\n",
       "    .dataframe tbody tr th:only-of-type {\n",
       "        vertical-align: middle;\n",
       "    }\n",
       "\n",
       "    .dataframe tbody tr th {\n",
       "        vertical-align: top;\n",
       "    }\n",
       "\n",
       "    .dataframe thead tr th {\n",
       "        text-align: left;\n",
       "    }\n",
       "\n",
       "    .dataframe thead tr:last-of-type th {\n",
       "        text-align: right;\n",
       "    }\n",
       "</style>\n",
       "<table border=\"1\" class=\"dataframe\">\n",
       "  <thead>\n",
       "    <tr>\n",
       "      <th></th>\n",
       "      <th>suicides_no</th>\n",
       "    </tr>\n",
       "    <tr>\n",
       "      <th></th>\n",
       "      <th>sum</th>\n",
       "    </tr>\n",
       "    <tr>\n",
       "      <th></th>\n",
       "      <th>mean</th>\n",
       "    </tr>\n",
       "    <tr>\n",
       "      <th>sex</th>\n",
       "      <th></th>\n",
       "    </tr>\n",
       "  </thead>\n",
       "  <tbody>\n",
       "    <tr>\n",
       "      <th>female</th>\n",
       "      <td>15440.693069</td>\n",
       "    </tr>\n",
       "    <tr>\n",
       "      <th>male</th>\n",
       "      <td>51375.346535</td>\n",
       "    </tr>\n",
       "  </tbody>\n",
       "</table>\n",
       "</div>"
      ],
      "text/plain": [
       "         suicides_no\n",
       "                 sum\n",
       "                mean\n",
       "sex                 \n",
       "female  15440.693069\n",
       "male    51375.346535"
      ]
     },
     "execution_count": 19,
     "metadata": {},
     "output_type": "execute_result"
    }
   ],
   "source": [
    "suicidios_agregados5=suicidios_agregados4.groupby(\"sex\").agg({('suicides_no','sum'):['mean']})\n",
    "suicidios_agregados5"
   ]
  },
  {
   "cell_type": "code",
   "execution_count": 20,
   "id": "f8cb608c",
   "metadata": {},
   "outputs": [
    {
     "name": "stdout",
     "output_type": "stream",
     "text": [
      "                       suicides_no\n",
      "                               sum\n",
      "country    age                    \n",
      "Albania    15-24 years         546\n",
      "           25-34 years         427\n",
      "           35-54 years         591\n",
      "           5-14 years           61\n",
      "           55-74 years         264\n",
      "...                            ...\n",
      "Uzbekistan 25-34 years        8578\n",
      "           35-54 years       10964\n",
      "           5-14 years         1376\n",
      "           55-74 years        3595\n",
      "           75+ years           617\n",
      "\n",
      "[605 rows x 1 columns]\n"
     ]
    }
   ],
   "source": [
    "suicidios_agregados6= suicide.groupby(['country','age']).agg({'suicides_no':['sum']})\n",
    "print (suicidios_agregados6)"
   ]
  },
  {
   "cell_type": "code",
   "execution_count": 21,
   "id": "cf7b5d71",
   "metadata": {},
   "outputs": [
    {
     "data": {
      "text/plain": [
       "<AxesSubplot:xlabel=\"('suicides_no', 'sum')\", ylabel='Density'>"
      ]
     },
     "execution_count": 21,
     "metadata": {},
     "output_type": "execute_result"
    },
    {
     "data": {
      "image/png": "[encoded data removed]",
      "text/plain": [
       "<Figure size 432x288 with 1 Axes>"
      ]
     },
     "metadata": {
      "needs_background": "light"
     },
     "output_type": "display_data"
    }
   ],
   "source": [
    "sns.kdeplot(data=suicidios_agregados6,x=('suicides_no','sum'),hue=\"age\",multiple=\"stack\")"
   ]
  },
  {
   "cell_type": "code",
   "execution_count": 22,
   "id": "c5955b4e",
   "metadata": {},
   "outputs": [
    {
     "data": {
      "text/html": [
       "<div>\n",
       "<style scoped>\n",
       "    .dataframe tbody tr th:only-of-type {\n",
       "        vertical-align: middle;\n",
       "    }\n",
       "\n",
       "    .dataframe tbody tr th {\n",
       "        vertical-align: top;\n",
       "    }\n",
       "\n",
       "    .dataframe thead tr th {\n",
       "        text-align: left;\n",
       "    }\n",
       "\n",
       "    .dataframe thead tr:last-of-type th {\n",
       "        text-align: right;\n",
       "    }\n",
       "</style>\n",
       "<table border=\"1\" class=\"dataframe\">\n",
       "  <thead>\n",
       "    <tr>\n",
       "      <th></th>\n",
       "      <th>suicides_no</th>\n",
       "    </tr>\n",
       "    <tr>\n",
       "      <th></th>\n",
       "      <th>sum</th>\n",
       "    </tr>\n",
       "    <tr>\n",
       "      <th></th>\n",
       "      <th>mean</th>\n",
       "    </tr>\n",
       "    <tr>\n",
       "      <th>age</th>\n",
       "      <th></th>\n",
       "    </tr>\n",
       "  </thead>\n",
       "  <tbody>\n",
       "    <tr>\n",
       "      <th>15-24 years</th>\n",
       "      <td>8005.366337</td>\n",
       "    </tr>\n",
       "    <tr>\n",
       "      <th>25-34 years</th>\n",
       "      <td>11127.841584</td>\n",
       "    </tr>\n",
       "    <tr>\n",
       "      <th>35-54 years</th>\n",
       "      <td>24278.623762</td>\n",
       "    </tr>\n",
       "    <tr>\n",
       "      <th>5-14 years</th>\n",
       "      <td>522.640000</td>\n",
       "    </tr>\n",
       "    <tr>\n",
       "      <th>55-74 years</th>\n",
       "      <td>16420.227723</td>\n",
       "    </tr>\n",
       "    <tr>\n",
       "      <th>75+ years</th>\n",
       "      <td>6466.514851</td>\n",
       "    </tr>\n",
       "  </tbody>\n",
       "</table>\n",
       "</div>"
      ],
      "text/plain": [
       "              suicides_no\n",
       "                      sum\n",
       "                     mean\n",
       "age                      \n",
       "15-24 years   8005.366337\n",
       "25-34 years  11127.841584\n",
       "35-54 years  24278.623762\n",
       "5-14 years     522.640000\n",
       "55-74 years  16420.227723\n",
       "75+ years     6466.514851"
      ]
     },
     "execution_count": 22,
     "metadata": {},
     "output_type": "execute_result"
    }
   ],
   "source": [
    "suicidios_agregados7=suicidios_agregados6.groupby(\"age\").agg({('suicides_no','sum'):['mean']})\n",
    "suicidios_agregados7"
   ]
  },
  {
   "cell_type": "code",
   "execution_count": 23,
   "id": "12b68a7c",
   "metadata": {},
   "outputs": [
    {
     "data": {
      "text/html": [
       "<div>\n",
       "<style scoped>\n",
       "    .dataframe tbody tr th:only-of-type {\n",
       "        vertical-align: middle;\n",
       "    }\n",
       "\n",
       "    .dataframe tbody tr th {\n",
       "        vertical-align: top;\n",
       "    }\n",
       "\n",
       "    .dataframe thead th {\n",
       "        text-align: right;\n",
       "    }\n",
       "</style>\n",
       "<table border=\"1\" class=\"dataframe\">\n",
       "  <thead>\n",
       "    <tr style=\"text-align: right;\">\n",
       "      <th></th>\n",
       "      <th>country</th>\n",
       "      <th>year</th>\n",
       "      <th>sex</th>\n",
       "      <th>age</th>\n",
       "      <th>suicides_no</th>\n",
       "      <th>population</th>\n",
       "      <th>suicides/100k pop</th>\n",
       "      <th>country-year</th>\n",
       "      <th>HDI for year</th>\n",
       "      <th>gdp_for_year ($)</th>\n",
       "      <th>gdp_per_capita ($)</th>\n",
       "      <th>generation</th>\n",
       "    </tr>\n",
       "  </thead>\n",
       "  <tbody>\n",
       "    <tr>\n",
       "      <th>16564</th>\n",
       "      <td>Mexico</td>\n",
       "      <td>1985</td>\n",
       "      <td>male</td>\n",
       "      <td>75+ years</td>\n",
       "      <td>44</td>\n",
       "      <td>432000</td>\n",
       "      <td>10.19</td>\n",
       "      <td>Mexico1985</td>\n",
       "      <td>0.634</td>\n",
       "      <td>1.844726e+11</td>\n",
       "      <td>2730</td>\n",
       "      <td>G.I. Generation</td>\n",
       "    </tr>\n",
       "    <tr>\n",
       "      <th>16565</th>\n",
       "      <td>Mexico</td>\n",
       "      <td>1985</td>\n",
       "      <td>male</td>\n",
       "      <td>55-74 years</td>\n",
       "      <td>145</td>\n",
       "      <td>2330000</td>\n",
       "      <td>6.22</td>\n",
       "      <td>Mexico1985</td>\n",
       "      <td>0.634</td>\n",
       "      <td>1.844726e+11</td>\n",
       "      <td>2730</td>\n",
       "      <td>G.I. Generation</td>\n",
       "    </tr>\n",
       "    <tr>\n",
       "      <th>16566</th>\n",
       "      <td>Mexico</td>\n",
       "      <td>1985</td>\n",
       "      <td>male</td>\n",
       "      <td>25-34 years</td>\n",
       "      <td>340</td>\n",
       "      <td>5679000</td>\n",
       "      <td>5.99</td>\n",
       "      <td>Mexico1985</td>\n",
       "      <td>0.634</td>\n",
       "      <td>1.844726e+11</td>\n",
       "      <td>2730</td>\n",
       "      <td>Boomers</td>\n",
       "    </tr>\n",
       "    <tr>\n",
       "      <th>16567</th>\n",
       "      <td>Mexico</td>\n",
       "      <td>1985</td>\n",
       "      <td>male</td>\n",
       "      <td>35-54 years</td>\n",
       "      <td>327</td>\n",
       "      <td>5836000</td>\n",
       "      <td>5.60</td>\n",
       "      <td>Mexico1985</td>\n",
       "      <td>0.634</td>\n",
       "      <td>1.844726e+11</td>\n",
       "      <td>2730</td>\n",
       "      <td>Silent</td>\n",
       "    </tr>\n",
       "    <tr>\n",
       "      <th>16568</th>\n",
       "      <td>Mexico</td>\n",
       "      <td>1985</td>\n",
       "      <td>male</td>\n",
       "      <td>15-24 years</td>\n",
       "      <td>375</td>\n",
       "      <td>8420000</td>\n",
       "      <td>4.45</td>\n",
       "      <td>Mexico1985</td>\n",
       "      <td>0.634</td>\n",
       "      <td>1.844726e+11</td>\n",
       "      <td>2730</td>\n",
       "      <td>Generation X</td>\n",
       "    </tr>\n",
       "    <tr>\n",
       "      <th>...</th>\n",
       "      <td>...</td>\n",
       "      <td>...</td>\n",
       "      <td>...</td>\n",
       "      <td>...</td>\n",
       "      <td>...</td>\n",
       "      <td>...</td>\n",
       "      <td>...</td>\n",
       "      <td>...</td>\n",
       "      <td>...</td>\n",
       "      <td>...</td>\n",
       "      <td>...</td>\n",
       "      <td>...</td>\n",
       "    </tr>\n",
       "    <tr>\n",
       "      <th>27215</th>\n",
       "      <td>United States</td>\n",
       "      <td>2015</td>\n",
       "      <td>female</td>\n",
       "      <td>25-34 years</td>\n",
       "      <td>1444</td>\n",
       "      <td>21555712</td>\n",
       "      <td>6.70</td>\n",
       "      <td>United States2015</td>\n",
       "      <td>NaN</td>\n",
       "      <td>1.812071e+13</td>\n",
       "      <td>60387</td>\n",
       "      <td>Millenials</td>\n",
       "    </tr>\n",
       "    <tr>\n",
       "      <th>27216</th>\n",
       "      <td>United States</td>\n",
       "      <td>2015</td>\n",
       "      <td>female</td>\n",
       "      <td>15-24 years</td>\n",
       "      <td>1132</td>\n",
       "      <td>21633813</td>\n",
       "      <td>5.23</td>\n",
       "      <td>United States2015</td>\n",
       "      <td>NaN</td>\n",
       "      <td>1.812071e+13</td>\n",
       "      <td>60387</td>\n",
       "      <td>Millenials</td>\n",
       "    </tr>\n",
       "    <tr>\n",
       "      <th>27217</th>\n",
       "      <td>United States</td>\n",
       "      <td>2015</td>\n",
       "      <td>female</td>\n",
       "      <td>75+ years</td>\n",
       "      <td>540</td>\n",
       "      <td>11778666</td>\n",
       "      <td>4.58</td>\n",
       "      <td>United States2015</td>\n",
       "      <td>NaN</td>\n",
       "      <td>1.812071e+13</td>\n",
       "      <td>60387</td>\n",
       "      <td>Silent</td>\n",
       "    </tr>\n",
       "    <tr>\n",
       "      <th>27218</th>\n",
       "      <td>United States</td>\n",
       "      <td>2015</td>\n",
       "      <td>male</td>\n",
       "      <td>5-14 years</td>\n",
       "      <td>255</td>\n",
       "      <td>21273987</td>\n",
       "      <td>1.20</td>\n",
       "      <td>United States2015</td>\n",
       "      <td>NaN</td>\n",
       "      <td>1.812071e+13</td>\n",
       "      <td>60387</td>\n",
       "      <td>Generation Z</td>\n",
       "    </tr>\n",
       "    <tr>\n",
       "      <th>27219</th>\n",
       "      <td>United States</td>\n",
       "      <td>2015</td>\n",
       "      <td>female</td>\n",
       "      <td>5-14 years</td>\n",
       "      <td>158</td>\n",
       "      <td>20342901</td>\n",
       "      <td>0.78</td>\n",
       "      <td>United States2015</td>\n",
       "      <td>NaN</td>\n",
       "      <td>1.812071e+13</td>\n",
       "      <td>60387</td>\n",
       "      <td>Generation Z</td>\n",
       "    </tr>\n",
       "  </tbody>\n",
       "</table>\n",
       "<p>744 rows × 12 columns</p>\n",
       "</div>"
      ],
      "text/plain": [
       "             country  year     sex          age  suicides_no  population  \\\n",
       "16564         Mexico  1985    male    75+ years           44      432000   \n",
       "16565         Mexico  1985    male  55-74 years          145     2330000   \n",
       "16566         Mexico  1985    male  25-34 years          340     5679000   \n",
       "16567         Mexico  1985    male  35-54 years          327     5836000   \n",
       "16568         Mexico  1985    male  15-24 years          375     8420000   \n",
       "...              ...   ...     ...          ...          ...         ...   \n",
       "27215  United States  2015  female  25-34 years         1444    21555712   \n",
       "27216  United States  2015  female  15-24 years         1132    21633813   \n",
       "27217  United States  2015  female    75+ years          540    11778666   \n",
       "27218  United States  2015    male   5-14 years          255    21273987   \n",
       "27219  United States  2015  female   5-14 years          158    20342901   \n",
       "\n",
       "       suicides/100k pop       country-year  HDI for year   gdp_for_year ($)   \\\n",
       "16564              10.19         Mexico1985         0.634        1.844726e+11   \n",
       "16565               6.22         Mexico1985         0.634        1.844726e+11   \n",
       "16566               5.99         Mexico1985         0.634        1.844726e+11   \n",
       "16567               5.60         Mexico1985         0.634        1.844726e+11   \n",
       "16568               4.45         Mexico1985         0.634        1.844726e+11   \n",
       "...                  ...                ...           ...                 ...   \n",
       "27215               6.70  United States2015           NaN        1.812071e+13   \n",
       "27216               5.23  United States2015           NaN        1.812071e+13   \n",
       "27217               4.58  United States2015           NaN        1.812071e+13   \n",
       "27218               1.20  United States2015           NaN        1.812071e+13   \n",
       "27219               0.78  United States2015           NaN        1.812071e+13   \n",
       "\n",
       "       gdp_per_capita ($)       generation  \n",
       "16564                2730  G.I. Generation  \n",
       "16565                2730  G.I. Generation  \n",
       "16566                2730          Boomers  \n",
       "16567                2730           Silent  \n",
       "16568                2730     Generation X  \n",
       "...                   ...              ...  \n",
       "27215               60387       Millenials  \n",
       "27216               60387       Millenials  \n",
       "27217               60387           Silent  \n",
       "27218               60387     Generation Z  \n",
       "27219               60387     Generation Z  \n",
       "\n",
       "[744 rows x 12 columns]"
      ]
     },
     "execution_count": 23,
     "metadata": {},
     "output_type": "execute_result"
    }
   ],
   "source": [
    "suicidios_mexico_eua = suicide[(suicide['country'] == \"Mexico\") | (suicide['country'] == \"United States\")]\n",
    "suicidios_mexico_eua"
   ]
  },
  {
   "cell_type": "code",
   "execution_count": 24,
   "id": "1afe3957",
   "metadata": {},
   "outputs": [
    {
     "data": {
      "image/png": "[encoded data removed]",
      "text/plain": [
       "<Figure size 432x288 with 2 Axes>"
      ]
     },
     "metadata": {
      "needs_background": "light"
     },
     "output_type": "display_data"
    }
   ],
   "source": [
    "corr = suicidios_mexico_eua.corr()\n",
    "ax = sns.heatmap(\n",
    "    corr, \n",
    "    vmin=-1, vmax=1, center=0,\n",
    "    cmap=sns.diverging_palette(20, 220, n=200),\n",
    "    square=True\n",
    ")\n",
    "ax.set_xticklabels(\n",
    "    ax.get_xticklabels(),\n",
    "    rotation=45,\n",
    "    horizontalalignment='right'\n",
    ");\n",
    "\n",
    "#Estan más correlacionados al analizar solo dos países"
   ]
  },
  {
   "cell_type": "code",
   "execution_count": 25,
   "id": "d669f13e",
   "metadata": {},
   "outputs": [
    {
     "name": "stdout",
     "output_type": "stream",
     "text": [
      "                   suicides_no  gdp_for_year ($) \n",
      "                           sum               mean\n",
      "country       year                               \n",
      "Mexico        1985        1544       1.844726e+11\n",
      "              1986        1714       1.294410e+11\n",
      "              1987        1701       1.402634e+11\n",
      "              1988        1703       1.831442e+11\n",
      "              1989        1865       2.229770e+11\n",
      "...                        ...                ...\n",
      "United States 2011       39508       1.551793e+13\n",
      "              2012       40596       1.615526e+13\n",
      "              2013       41143       1.669152e+13\n",
      "              2014       42769       1.742761e+13\n",
      "              2015       44189       1.812071e+13\n",
      "\n",
      "[62 rows x 2 columns]\n"
     ]
    }
   ],
   "source": [
    "suicidios_mex_eua= suicidios_mexico_eua.groupby(['country','year']).agg({'suicides_no':['sum'],' gdp_for_year ($) ': ['mean']})\n",
    "print (suicidios_mex_eua)"
   ]
  },
  {
   "cell_type": "code",
   "execution_count": 26,
   "id": "49ea7244",
   "metadata": {},
   "outputs": [
    {
     "data": {
      "text/plain": [
       "<AxesSubplot:xlabel=\"('suicides_no', 'sum')\", ylabel=\"(' gdp_for_year ($) ', 'mean')\">"
      ]
     },
     "execution_count": 26,
     "metadata": {},
     "output_type": "execute_result"
    },
    {
     "data": {
      "image/png": "[encoded data removed]",
      "text/plain": [
       "<Figure size 432x288 with 1 Axes>"
      ]
     },
     "metadata": {
      "needs_background": "light"
     },
     "output_type": "display_data"
    }
   ],
   "source": [
    "sns.scatterplot(x=('suicides_no','sum'), y=(' gdp_for_year ($) ','mean'),hue=\"country\", data= suicidios_mex_eua)\n"
   ]
  },
  {
   "cell_type": "code",
   "execution_count": 27,
   "id": "90d549e2",
   "metadata": {},
   "outputs": [
    {
     "name": "stdout",
     "output_type": "stream",
     "text": [
      "                   suicides_no population\n",
      "                           sum        sum\n",
      "country       year                       \n",
      "Mexico        1985        1544   67566000\n",
      "              1986        1714   69123500\n",
      "              1987        1701   67948100\n",
      "              1988        1703   69646000\n",
      "              1989        1865   71359000\n",
      "...                        ...        ...\n",
      "United States 2011       39508  290313825\n",
      "              2012       40596  292827128\n",
      "              2013       41143  295322862\n",
      "              2014       42769  297749735\n",
      "              2015       44189  300078511\n",
      "\n",
      "[62 rows x 2 columns]\n"
     ]
    }
   ],
   "source": [
    "suicidios_mex_eua1= suicidios_mexico_eua.groupby(['country','year']).agg({'suicides_no':['sum'],'population': ['sum']})\n",
    "print (suicidios_mex_eua1)"
   ]
  },
  {
   "cell_type": "code",
   "execution_count": 30,
   "id": "95f4c773",
   "metadata": {},
   "outputs": [
    {
     "data": {
      "text/plain": [
       "<AxesSubplot:xlabel=\"('suicides_no', 'sum')\", ylabel=\"('population', 'sum')\">"
      ]
     },
     "execution_count": 30,
     "metadata": {},
     "output_type": "execute_result"
    },
    {
     "data": {
      "image/png": "[encoded data removed]",
      "text/plain": [
       "<Figure size 432x288 with 1 Axes>"
      ]
     },
     "metadata": {
      "needs_background": "light"
     },
     "output_type": "display_data"
    }
   ],
   "source": [
    "sns.scatterplot(x=('suicides_no','sum'), y=('population','sum'),hue=\"country\", data= suicidios_mex_eua1)\n"
   ]
  },
  {
   "cell_type": "code",
   "execution_count": 31,
   "id": "485250de",
   "metadata": {},
   "outputs": [
    {
     "name": "stdout",
     "output_type": "stream",
     "text": [
      "                     suicides_no\n",
      "                             sum\n",
      "country       sex               \n",
      "Mexico        female       19334\n",
      "              male         91805\n",
      "United States female      213797\n",
      "              male        820216\n"
     ]
    }
   ],
   "source": [
    "suicidios_mex_eua2= suicidios_mexico_eua.groupby(['country','sex']).agg({'suicides_no':['sum']})\n",
    "print (suicidios_mex_eua2)"
   ]
  },
  {
   "cell_type": "code",
   "execution_count": 32,
   "id": "f85a710f",
   "metadata": {},
   "outputs": [
    {
     "data": {
      "text/plain": [
       "<AxesSubplot:xlabel=\"('suicides_no', 'sum')\", ylabel='Density'>"
      ]
     },
     "execution_count": 32,
     "metadata": {},
     "output_type": "execute_result"
    },
    {
     "data": {
      "image/png": "[encoded data removed]",
      "text/plain": [
       "<Figure size 432x288 with 1 Axes>"
      ]
     },
     "metadata": {
      "needs_background": "light"
     },
     "output_type": "display_data"
    }
   ],
   "source": [
    "sns.kdeplot(data= suicidios_mex_eua2,x=('suicides_no','sum'),hue=\"sex\",multiple=\"stack\")"
   ]
  },
  {
   "cell_type": "code",
   "execution_count": 33,
   "id": "4d54ed73",
   "metadata": {},
   "outputs": [
    {
     "name": "stdout",
     "output_type": "stream",
     "text": [
      "                          suicides_no\n",
      "                                  sum\n",
      "country       age                    \n",
      "Mexico        15-24 years       33664\n",
      "              25-34 years       27226\n",
      "              35-54 years       29997\n",
      "              5-14 years         3930\n",
      "              55-74 years       12318\n",
      "              75+ years          4004\n",
      "United States 15-24 years      141679\n",
      "              25-34 years      182047\n",
      "              35-54 years      380917\n",
      "              5-14 years         8923\n",
      "              55-74 years      224770\n",
      "              75+ years         95677\n"
     ]
    }
   ],
   "source": [
    "suicidios_mex_eua3= suicidios_mexico_eua.groupby(['country','age']).agg({'suicides_no':['sum']})\n",
    "print (suicidios_mex_eua3)"
   ]
  },
  {
   "cell_type": "code",
   "execution_count": 34,
   "id": "87c3016a",
   "metadata": {},
   "outputs": [
    {
     "data": {
      "text/plain": [
       "<AxesSubplot:xlabel=\"('suicides_no', 'sum')\", ylabel='Density'>"
      ]
     },
     "execution_count": 34,
     "metadata": {},
     "output_type": "execute_result"
    },
    {
     "data": {
      "image/png": "[encoded data removed]",
      "text/plain": [
       "<Figure size 432x288 with 1 Axes>"
      ]
     },
     "metadata": {
      "needs_background": "light"
     },
     "output_type": "display_data"
    }
   ],
   "source": [
    "sns.kdeplot(data=suicidios_mex_eua3,x=('suicides_no','sum'),hue=\"age\",multiple=\"stack\")"
   ]
  },
  {
   "cell_type": "code",
   "execution_count": 38,
   "id": "7c36a66b",
   "metadata": {},
   "outputs": [
    {
     "data": {
      "text/html": [
       "<div>\n",
       "<style scoped>\n",
       "    .dataframe tbody tr th:only-of-type {\n",
       "        vertical-align: middle;\n",
       "    }\n",
       "\n",
       "    .dataframe tbody tr th {\n",
       "        vertical-align: top;\n",
       "    }\n",
       "\n",
       "    .dataframe thead tr th {\n",
       "        text-align: left;\n",
       "    }\n",
       "\n",
       "    .dataframe thead tr:last-of-type th {\n",
       "        text-align: right;\n",
       "    }\n",
       "</style>\n",
       "<table border=\"1\" class=\"dataframe\">\n",
       "  <thead>\n",
       "    <tr>\n",
       "      <th></th>\n",
       "      <th></th>\n",
       "      <th>suicides_no</th>\n",
       "    </tr>\n",
       "    <tr>\n",
       "      <th></th>\n",
       "      <th></th>\n",
       "      <th>sum</th>\n",
       "    </tr>\n",
       "    <tr>\n",
       "      <th></th>\n",
       "      <th></th>\n",
       "      <th>mean</th>\n",
       "    </tr>\n",
       "    <tr>\n",
       "      <th>country</th>\n",
       "      <th>age</th>\n",
       "      <th></th>\n",
       "    </tr>\n",
       "  </thead>\n",
       "  <tbody>\n",
       "    <tr>\n",
       "      <th rowspan=\"6\" valign=\"top\">Mexico</th>\n",
       "      <th>15-24 years</th>\n",
       "      <td>33664.0</td>\n",
       "    </tr>\n",
       "    <tr>\n",
       "      <th>25-34 years</th>\n",
       "      <td>27226.0</td>\n",
       "    </tr>\n",
       "    <tr>\n",
       "      <th>35-54 years</th>\n",
       "      <td>29997.0</td>\n",
       "    </tr>\n",
       "    <tr>\n",
       "      <th>5-14 years</th>\n",
       "      <td>3930.0</td>\n",
       "    </tr>\n",
       "    <tr>\n",
       "      <th>55-74 years</th>\n",
       "      <td>12318.0</td>\n",
       "    </tr>\n",
       "    <tr>\n",
       "      <th>75+ years</th>\n",
       "      <td>4004.0</td>\n",
       "    </tr>\n",
       "    <tr>\n",
       "      <th rowspan=\"6\" valign=\"top\">United States</th>\n",
       "      <th>15-24 years</th>\n",
       "      <td>141679.0</td>\n",
       "    </tr>\n",
       "    <tr>\n",
       "      <th>25-34 years</th>\n",
       "      <td>182047.0</td>\n",
       "    </tr>\n",
       "    <tr>\n",
       "      <th>35-54 years</th>\n",
       "      <td>380917.0</td>\n",
       "    </tr>\n",
       "    <tr>\n",
       "      <th>5-14 years</th>\n",
       "      <td>8923.0</td>\n",
       "    </tr>\n",
       "    <tr>\n",
       "      <th>55-74 years</th>\n",
       "      <td>224770.0</td>\n",
       "    </tr>\n",
       "    <tr>\n",
       "      <th>75+ years</th>\n",
       "      <td>95677.0</td>\n",
       "    </tr>\n",
       "  </tbody>\n",
       "</table>\n",
       "</div>"
      ],
      "text/plain": [
       "                          suicides_no\n",
       "                                  sum\n",
       "                                 mean\n",
       "country       age                    \n",
       "Mexico        15-24 years     33664.0\n",
       "              25-34 years     27226.0\n",
       "              35-54 years     29997.0\n",
       "              5-14 years       3930.0\n",
       "              55-74 years     12318.0\n",
       "              75+ years        4004.0\n",
       "United States 15-24 years    141679.0\n",
       "              25-34 years    182047.0\n",
       "              35-54 years    380917.0\n",
       "              5-14 years       8923.0\n",
       "              55-74 years    224770.0\n",
       "              75+ years       95677.0"
      ]
     },
     "execution_count": 38,
     "metadata": {},
     "output_type": "execute_result"
    }
   ],
   "source": [
    "suicidios_mex_eua4=suicidios_mex_eua3.groupby([\"country\",\"age\"]).agg({('suicides_no','sum'):['mean']})\n",
    "suicidios_mex_eua4"
   ]
  }
 ],
 "metadata": {
  "kernelspec": {
   "display_name": "Python 3 (ipykernel)",
   "language": "python",
   "name": "python3"
  },
  "language_info": {
   "codemirror_mode": {
    "name": "ipython",
    "version": 3
   },
   "file_extension": ".py",
   "mimetype": "text/x-python",
   "name": "python",
   "nbconvert_exporter": "python",
   "pygments_lexer": "ipython3",
   "version": "3.9.7"
  }
 },
 "nbformat": 4,
 "nbformat_minor": 5
}
